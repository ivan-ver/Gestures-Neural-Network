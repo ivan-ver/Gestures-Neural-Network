{
 "cells": [
  {
   "cell_type": "code",
   "execution_count": 2,
   "metadata": {
    "collapsed": true
   },
   "outputs": [],
   "source": [
    "import time\n",
    "import cv2\n",
    "import os"
   ]
  },
  {
   "cell_type": "code",
   "execution_count": 6,
   "outputs": [],
   "source": [
    "cam = cv2.VideoCapture(0)\n",
    "for i in range(700):\n",
    "    ret, img = cam.read()\n",
    "    img = cv2.resize(img, None, fx=0.3, fy=0.3)\n",
    "    cv2.imwrite(f'./img_ok/{i}.jpg',img)\n",
    "    cv2.imshow(\"camera\", img)\n",
    "    time.sleep(0.1)\n",
    "    if cv2.waitKey(10) == 27:\n",
    "        break\n",
    "cam.release()\n",
    "cv2.destroyAllWindows()"
   ],
   "metadata": {
    "collapsed": false,
    "pycharm": {
     "name": "#%%\n"
    }
   }
  },
  {
   "cell_type": "code",
   "execution_count": 3,
   "outputs": [],
   "source": [
    "path = ['./img_class/', './img_ok/', './img_hi/', './img_empty/']\n",
    "for p in path:\n",
    "    for i, filename in enumerate(os.listdir(p)):\n",
    "        os.remove(os.path.abspath(os.path.dirname(filename)) + p[1:-1] +\"/\" + filename)"
   ],
   "metadata": {
    "collapsed": false,
    "pycharm": {
     "name": "#%%\n"
    }
   }
  },
  {
   "cell_type": "code",
   "execution_count": null,
   "outputs": [],
   "source": [
    "\n"
   ],
   "metadata": {
    "collapsed": false,
    "pycharm": {
     "name": "#%%\n"
    }
   }
  }
 ],
 "metadata": {
  "kernelspec": {
   "display_name": "Python 3",
   "language": "python",
   "name": "python3"
  },
  "language_info": {
   "codemirror_mode": {
    "name": "ipython",
    "version": 2
   },
   "file_extension": ".py",
   "mimetype": "text/x-python",
   "name": "python",
   "nbconvert_exporter": "python",
   "pygments_lexer": "ipython2",
   "version": "2.7.6"
  }
 },
 "nbformat": 4,
 "nbformat_minor": 0
}